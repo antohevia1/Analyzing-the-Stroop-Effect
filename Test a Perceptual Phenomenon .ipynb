{
 "cells": [
  {
   "cell_type": "code",
   "execution_count": 1,
   "metadata": {},
   "outputs": [],
   "source": [
    "import pandas as pd\n",
    "import numpy as np\n",
    "from matplotlib import pyplot as plt\n",
    "%matplotlib inline"
   ]
  },
  {
   "cell_type": "markdown",
   "metadata": {},
   "source": [
    "### Analyzing the Stroop Effect\n",
    "Perform the analysis in the space below. Remember to follow [the instructions](https://docs.google.com/document/d/1-OkpZLjG_kX9J6LIQ5IltsqMzVWjh36QpnP2RYpVdPU/pub?embedded=True) and review the [project rubric](https://review.udacity.com/#!/rubrics/71/view) before submitting. Once you've completed the analysis and write up, download this file as a PDF or HTML file and submit in the next section.\n",
    "\n",
    "\n",
    "**(1) What is the independent variable? What is the dependent variable?**"
   ]
  },
  {
   "cell_type": "markdown",
   "metadata": {},
   "source": [
    "The **independent variable** is the congruency between the color and the written word. The **dependent variable** is the time that it takes for the user to name the ink colors in equally-sized lists."
   ]
  },
  {
   "cell_type": "markdown",
   "metadata": {},
   "source": [
    "**(2) What is an appropriate set of hypotheses for this task? What kind of statistical test do you expect to perform? Justify your choices.**"
   ]
  },
  {
   "cell_type": "markdown",
   "metadata": {},
   "source": [
    "$$ H_{0}: \\mu_{Cong}- \\mu_{Incong} = 0  $$\n",
    "\n",
    "$ \\mu_{Cong}$ and $  \\mu_{Incong}  $ represent the congruent and incongruent population means\n",
    "\n",
    "Under normal circumstances, it would be assumed that it takes the same amount of time to read each list.\n",
    "If this hypothesis is proven wrong, then the alternative hypothesis would be true (The stroop effect would be proven true when $ \\mu_{Cong}- \\mu_{Incong} \\leq 0  $)\n",
    "\n",
    "$$ H_{1}: \\mu_{Cong}- \\mu_{Incong} \\neq 0  $$\n",
    "\n",
    "This hypothesis states that the times to read the list varies depending on the congruency between the ink and the written word\n",
    "\n",
    "Given that:\n",
    "* The sample size is below 30\n",
    "* Each element in both samples represents the time it took for the same participant to go through each list (related)\n",
    "\n",
    "To find statistical differences between the two samples a **paired t-test** would be used."
   ]
  },
  {
   "cell_type": "markdown",
   "metadata": {},
   "source": [
    "**(3) Report some descriptive statistics regarding this dataset. Include at least one measure of central tendency and at least one measure of variability. The name of the data file is 'stroopdata.csv'.**"
   ]
  },
  {
   "cell_type": "code",
   "execution_count": 2,
   "metadata": {},
   "outputs": [
    {
     "data": {
      "text/html": [
       "<div>\n",
       "<style>\n",
       "    .dataframe thead tr:only-child th {\n",
       "        text-align: right;\n",
       "    }\n",
       "\n",
       "    .dataframe thead th {\n",
       "        text-align: left;\n",
       "    }\n",
       "\n",
       "    .dataframe tbody tr th {\n",
       "        vertical-align: top;\n",
       "    }\n",
       "</style>\n",
       "<table border=\"1\" class=\"dataframe\">\n",
       "  <thead>\n",
       "    <tr style=\"text-align: right;\">\n",
       "      <th></th>\n",
       "      <th>Congruent</th>\n",
       "      <th>Incongruent</th>\n",
       "    </tr>\n",
       "  </thead>\n",
       "  <tbody>\n",
       "    <tr>\n",
       "      <th>count</th>\n",
       "      <td>24.000000</td>\n",
       "      <td>24.000000</td>\n",
       "    </tr>\n",
       "    <tr>\n",
       "      <th>mean</th>\n",
       "      <td>14.051125</td>\n",
       "      <td>22.015917</td>\n",
       "    </tr>\n",
       "    <tr>\n",
       "      <th>std</th>\n",
       "      <td>3.559358</td>\n",
       "      <td>4.797057</td>\n",
       "    </tr>\n",
       "    <tr>\n",
       "      <th>min</th>\n",
       "      <td>8.630000</td>\n",
       "      <td>15.687000</td>\n",
       "    </tr>\n",
       "    <tr>\n",
       "      <th>25%</th>\n",
       "      <td>11.895250</td>\n",
       "      <td>18.716750</td>\n",
       "    </tr>\n",
       "    <tr>\n",
       "      <th>50%</th>\n",
       "      <td>14.356500</td>\n",
       "      <td>21.017500</td>\n",
       "    </tr>\n",
       "    <tr>\n",
       "      <th>75%</th>\n",
       "      <td>16.200750</td>\n",
       "      <td>24.051500</td>\n",
       "    </tr>\n",
       "    <tr>\n",
       "      <th>max</th>\n",
       "      <td>22.328000</td>\n",
       "      <td>35.255000</td>\n",
       "    </tr>\n",
       "  </tbody>\n",
       "</table>\n",
       "</div>"
      ],
      "text/plain": [
       "       Congruent  Incongruent\n",
       "count  24.000000    24.000000\n",
       "mean   14.051125    22.015917\n",
       "std     3.559358     4.797057\n",
       "min     8.630000    15.687000\n",
       "25%    11.895250    18.716750\n",
       "50%    14.356500    21.017500\n",
       "75%    16.200750    24.051500\n",
       "max    22.328000    35.255000"
      ]
     },
     "execution_count": 2,
     "metadata": {},
     "output_type": "execute_result"
    }
   ],
   "source": [
    "cd = pd.read_csv(\"stroopdata.csv\")\n",
    "cd.describe()"
   ]
  },
  {
   "cell_type": "markdown",
   "metadata": {},
   "source": [
    "The **mean** is:\n",
    "* **Congruent**: $ mean = 14.05$\n",
    "* **Incongruent**: $ mean = 22.01$\n",
    "\n",
    "The Incongruent results have a median almost 8 seconds higher than the Congruent results\n",
    "\n",
    "The **median** is:\n",
    "* **Congruent**: $ Q_2 = 14.36$\n",
    "* **Incongruent**: $ Q_2 = 21.018$\n",
    "\n",
    "The Incongruent results have a median almost 7 seconds higher than the Congruent results\n",
    "\n",
    "The **inter quuartile range** is:\n",
    "* **Congruent**: $ Q_3 - Q_1 = 4.3$\n",
    "* **Incongruent**: $ Q_3 - Q_1 = 5.35$\n",
    "\n",
    "For the Congruent results, 50% of the values in the middle are within a smaller range (4.3) than for Incongruent resuls (5.35)\n",
    "\n",
    "The **standard deviation** is:\n",
    "* **Congruent**: $ std = 3.56$\n",
    "* **Incongruent**: $ std = 4.8$\n",
    "\n",
    "The standard deviation also indicates that the values for the Incongruent results are more spread than for the the Congruent results.\n"
   ]
  },
  {
   "cell_type": "markdown",
   "metadata": {},
   "source": [
    "**(4) Provide one or two visualizations that show the distribution of the sample data. Write one or two sentences noting what you observe about the plot or plots.**"
   ]
  },
  {
   "cell_type": "code",
   "execution_count": 3,
   "metadata": {},
   "outputs": [
    {
     "data": {
      "image/png": "[encoded data removed]",
      "text/plain": [
       "<matplotlib.figure.Figure at 0x7f7bfc83e908>"
      ]
     },
     "metadata": {},
     "output_type": "display_data"
    }
   ],
   "source": [
    "plt.figure(figsize=(10,7.5))\n",
    "plt.hist(cd['Congruent']);\n",
    "plt.axvline(cd.quantile(0.25)[0], c='r');\n",
    "plt.axvline(cd.quantile(0.75)[0], c='r');\n",
    "plt.xlabel('Time (s)', size=16);"
   ]
  },
  {
   "cell_type": "code",
   "execution_count": 4,
   "metadata": {},
   "outputs": [
    {
     "data": {
      "image/png": "[encoded data removed]",
      "text/plain": [
       "<matplotlib.figure.Figure at 0x7f7bfa784748>"
      ]
     },
     "metadata": {},
     "output_type": "display_data"
    }
   ],
   "source": [
    "plt.figure(figsize=(10,7.5))\n",
    "plt.hist(cd['Incongruent']);\n",
    "plt.axvline(cd.quantile(0.25)[1], c='r')\n",
    "plt.axvline(cd.quantile(0.75)[1], c='r')\n",
    "plt.xlabel('Time (s)', size=16);"
   ]
  },
  {
   "cell_type": "markdown",
   "metadata": {},
   "source": [
    "There is not enough values in the sample to observe the central limit theorem. However, the visualization for the Congruent data seems more normally distributed. The incongruent results seem more skewed to the right and also it has an outlier at 35 s"
   ]
  },
  {
   "cell_type": "markdown",
   "metadata": {},
   "source": [
    "**(5) Now, perform the statistical test and report the results. What is the confidence level and your critical statistic value? Do you reject the null hypothesis or fail to reject it? Come to a conclusion in terms of the experiment task. Did the results match up with your expectations?**"
   ]
  },
  {
   "cell_type": "markdown",
   "metadata": {},
   "source": [
    "The critical statistic value is $\\alpha\\ = 0.05 $. Given the null Hypothesis is two tailed, it means that p-values smaller than 0.025 would favour the alternative hypothesis."
   ]
  },
  {
   "cell_type": "code",
   "execution_count": 9,
   "metadata": {},
   "outputs": [],
   "source": [
    "from scipy import stats as st"
   ]
  },
  {
   "cell_type": "code",
   "execution_count": 30,
   "metadata": {},
   "outputs": [
    {
     "data": {
      "text/plain": [
       "Ttest_relResult(statistic=-8.020706944109957, pvalue=4.1030005857111781e-08)"
      ]
     },
     "execution_count": 30,
     "metadata": {},
     "output_type": "execute_result"
    }
   ],
   "source": [
    "st.ttest_rel(cd['Congruent'].values, cd['Incongruent'].values)"
   ]
  },
  {
   "cell_type": "markdown",
   "metadata": {},
   "source": [
    "Given the p-value, it seems very unlikely that, being the null hypothesis true, we would obtain such results. Therefore, the null hypothesis is rejected in favour of the Alternative Hypothesis. The Alternative hypothesis states that, there are statistical signifcant differences in the time it takes to read a list depending on the congruency between the ink and the written word.\n",
    "\n",
    "Proving the alternative hypothesis true does not prove the Stroop effect true, as it only states that the mean of the two samples is different, but it could be either larger or smaller."
   ]
  },
  {
   "cell_type": "markdown",
   "metadata": {},
   "source": [
    "The t-values is calculated as follows:$$ t = \\frac{\\bar{X_1}-\\bar{X_2}}{\\frac{s_d}{\\sqrt{n_1}}}$$"
   ]
  },
  {
   "cell_type": "markdown",
   "metadata": {},
   "source": [
    "1 . the mean difference is: $\\bar{X_1}-\\bar{X_2}$"
   ]
  },
  {
   "cell_type": "code",
   "execution_count": 27,
   "metadata": {},
   "outputs": [
    {
     "data": {
      "text/plain": [
       "-7.9647916666666658"
      ]
     },
     "execution_count": 27,
     "metadata": {},
     "output_type": "execute_result"
    }
   ],
   "source": [
    "diff = (cd['Congruent'].values-cd['Incongruent'].values)\n",
    "d = np.mean(diff)\n",
    "d"
   ]
  },
  {
   "cell_type": "markdown",
   "metadata": {},
   "source": [
    "2 . The standard error of the mean difference is: $\\frac{s_d}{\\sqrt{n_1}}$"
   ]
  },
  {
   "cell_type": "code",
   "execution_count": 31,
   "metadata": {},
   "outputs": [
    {
     "data": {
      "text/plain": [
       "0.97212042717333247"
      ]
     },
     "execution_count": 31,
     "metadata": {},
     "output_type": "execute_result"
    }
   ],
   "source": [
    "se = np.std(diff)/np.sqrt(len(cd))\n",
    "se"
   ]
  },
  {
   "cell_type": "markdown",
   "metadata": {},
   "source": [
    "3 . Thus:"
   ]
  },
  {
   "cell_type": "code",
   "execution_count": 29,
   "metadata": {},
   "outputs": [
    {
     "data": {
      "text/plain": [
       "-8.1932150009707758"
      ]
     },
     "execution_count": 29,
     "metadata": {},
     "output_type": "execute_result"
    }
   ],
   "source": [
    "t = d/se\n",
    "t"
   ]
  },
  {
   "cell_type": "markdown",
   "metadata": {
    "collapsed": true
   },
   "source": [
    "As the t-value obtained is negative (-8.19), it shows that $\\bar{X_2}$ is larger than $\\bar{X_1}$ (as shown in the previous questions). Therefore, on average, it takes longer to read the incongruent list. Having rejected the null hypothesis, the Stroop effect is proven true"
   ]
  }
 ],
 "metadata": {
  "kernelspec": {
   "display_name": "Python 3",
   "language": "python",
   "name": "python3"
  },
  "language_info": {
   "codemirror_mode": {
    "name": "ipython",
    "version": 3
   },
   "file_extension": ".py",
   "mimetype": "text/x-python",
   "name": "python",
   "nbconvert_exporter": "python",
   "pygments_lexer": "ipython3",
   "version": "3.6.3"
  }
 },
 "nbformat": 4,
 "nbformat_minor": 2
}
